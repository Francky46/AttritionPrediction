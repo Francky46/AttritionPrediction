{
 "cells": [
  {
   "metadata": {},
   "cell_type": "markdown",
   "source": "# Set up environment",
   "id": "19c5a72eb55d33fa"
  },
  {
   "cell_type": "code",
   "id": "initial_id",
   "metadata": {
    "collapsed": true,
    "ExecuteTime": {
     "end_time": "2025-01-21T10:27:17.091181Z",
     "start_time": "2025-01-21T10:27:15.929190Z"
    }
   },
   "source": [
    "import numpy as np\n",
    "import pandas as pd\n",
    "import matplotlib.pyplot as plt\n",
    "import seaborn as sns\n",
    "import warnings\n",
    "import tarfile\n",
    "import os\n",
    "\n",
    "# Configuring display settings\n",
    "plt.rcParams['figure.figsize'] = (12, 9)\n",
    "sns.set()\n",
    "sns.set_context('talk')\n",
    "np.set_printoptions(threshold=20, precision=2, suppress=True)\n",
    "pd.set_option('display.max_rows', 30)\n",
    "pd.set_option('display.max_columns', None)\n",
    "pd.set_option('display.precision', 2)\n",
    "pd.set_option('display.float_format', '{:.2f}'.format)\n",
    "warnings.filterwarnings(\"ignore\", category=FutureWarning)"
   ],
   "outputs": [],
   "execution_count": 3
  },
  {
   "metadata": {
    "ExecuteTime": {
     "end_time": "2025-01-21T10:37:21.119781Z",
     "start_time": "2025-01-21T10:37:21.117767Z"
    }
   },
   "cell_type": "code",
   "source": "",
   "id": "23de49e3c575fdb0",
   "outputs": [],
   "execution_count": null
  },
  {
   "metadata": {},
   "cell_type": "markdown",
   "source": [
    "# Bibliographie\n",
    "## Sources méthodologiques et théoriques : \n",
    "références traitant des bases théoriques et des modèles méthodologiques employés.\n",
    "\n",
    "## Sources sur les aspects techniques : \n",
    "ouvrages ou articles décrivant les techniques spécifiques utilisées.\n",
    "\n",
    "## Sources éthiques et sociétales : \n",
    "ressources relatives aux normes et aux enjeux éthiques dans votre domaine.\n",
    "\n",
    "## Sources spécifiques au projet : \n",
    "articles, études de cas ou rapports ayant directement inspiré ou orienté vos choix."
   ],
   "id": "205c12d00589d0d6"
  }
 ],
 "metadata": {
  "kernelspec": {
   "display_name": "Python 3",
   "language": "python",
   "name": "python3"
  },
  "language_info": {
   "codemirror_mode": {
    "name": "ipython",
    "version": 2
   },
   "file_extension": ".py",
   "mimetype": "text/x-python",
   "name": "python",
   "nbconvert_exporter": "python",
   "pygments_lexer": "ipython2",
   "version": "2.7.6"
  }
 },
 "nbformat": 4,
 "nbformat_minor": 5
}
